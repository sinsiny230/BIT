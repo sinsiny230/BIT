{
 "cells": [
  {
   "cell_type": "markdown",
   "metadata": {},
   "source": [
    "### BIT 과제 제출   1101634003 김 신 영"
   ]
  },
  {
   "cell_type": "markdown",
   "metadata": {},
   "source": [
    "### 문제1. MeSH 내 각기 다른 용어들의 총 개수를 찾아라\n",
    "### 답 : 56326 개"
   ]
  },
  {
   "cell_type": "code",
   "execution_count": 3,
   "metadata": {
    "collapsed": false
   },
   "outputs": [],
   "source": [
    "f = open('d2016.bin','r')\n",
    "wf = open('sinyy.txt','w')\n",
    "fst = []\n",
    "dic = {}\n",
    "for i in f :\n",
    "    fst.append(i)\n",
    "    if i == '\\n' :\n",
    "        ke = fst[2]\n",
    "        for i in fst :\n",
    "            if i[0:4] == 'MN =':\n",
    "                va = i\n",
    "                dic[va]=ke\n",
    "\n",
    "            fst = []\n",
    "\n",
    "vv = dic.keys()\n",
    "for e in vv :\n",
    "    kk = dic[e]\n",
    "    e = e.strip()\n",
    "    kk = kk.strip()\n",
    "    ll = e[5:]+'*'+kk[5:]+'\\n'\n",
    "    wf.write(ll)"
   ]
  },
  {
   "cell_type": "code",
   "execution_count": 4,
   "metadata": {
    "collapsed": false
   },
   "outputs": [
    {
     "name": "stdout",
     "output_type": "stream",
     "text": [
      "56326\n"
     ]
    }
   ],
   "source": [
    "f = open('sinyy.txt','r')\n",
    "box = []   #넘버 리스트\n",
    "\n",
    "count = {}\n",
    "num = 0\n",
    "for i in f :\n",
    "    a = i.split('*')\n",
    "    a = a[0]\n",
    "    a = a.split('.')\n",
    "    box.append(a)\n",
    "print len(box)"
   ]
  },
  {
   "cell_type": "markdown",
   "metadata": {},
   "source": [
    "### 문제2 . 임의의 텍스트 파일을 파싱하여 모든 한 단어 용어, 두 단어 용어, 세단어 용어의 목록을 만드는 스크립트를 작성하라\n",
    "### 결과 :  각 목록 안의 원소의 갯수를 출력 했습니다."
   ]
  },
  {
   "cell_type": "code",
   "execution_count": 18,
   "metadata": {
    "collapsed": false
   },
   "outputs": [
    {
     "name": "stdout",
     "output_type": "stream",
     "text": [
      "word1= 47232\n",
      "word2= 8240\n",
      "word3= 817\n"
     ]
    }
   ],
   "source": [
    "f = open('sinyy.txt','r')\n",
    "\n",
    "word1 = []\n",
    "word2 = []\n",
    "word3 = []\n",
    "\n",
    "\n",
    "for i in f :\n",
    "    box = []\n",
    "    a = i.split('*')\n",
    "    a1 = a[0]\n",
    "    aa = a[1]\n",
    "    aa = aa.split(',')\n",
    "    box.append(aa)\n",
    "    le= len(box[0])\n",
    "    if le == 1 :\n",
    "        word1.append(a1)\n",
    "    if le == 2 :\n",
    "        word2.append(a1)\n",
    "    if le == 3 :\n",
    "        word3.append(a1)\n",
    "\n",
    "print 'word1=',len(word1)\n",
    "print 'word2=',len(word2)\n",
    "print 'word3=',len(word3)\n",
    "    \n",
    "    \n",
    "    "
   ]
  },
  {
   "cell_type": "markdown",
   "metadata": {},
   "source": [
    "### 문제3. 질병으로 분류 된 모든 MeSH용어의 목록을 만드는 스크립트를 작성하라\n",
    "### 결과 : 질병으로 분류된 용어의 갯수과 그 리스트를 출력했습니다."
   ]
  },
  {
   "cell_type": "code",
   "execution_count": 19,
   "metadata": {
    "collapsed": false
   },
   "outputs": [
    {
     "name": "stdout",
     "output_type": "stream",
     "text": [
      "285\n",
      "[['C10.292', 'Cranial Nerve Diseases\\n'], ['C16.320.565.595.577', 'Mannosidase Deficiency Diseases\\n'], ['C07.320.610', 'Mandibular Diseases\\n'], ['C17.300.775', 'Rheumatic Diseases\\n'], ['C07.320.660', 'Maxillary Diseases\\n'], ['C18.452.648.595.577', 'Mannosidase Deficiency Diseases\\n'], ['C10.228.140.163.100.435.825.700', 'Niemann-Pick Diseases\\n'], ['C06.405.469.158', 'Colonic Diseases\\n'], ['C02.081.885', 'Tick-Borne Diseases\\n'], ['C07.465.815.470', 'Parotid Diseases\\n'], ['C10.292.887', 'Vagus Nerve Diseases\\n'], ['C10.292.850', 'Trochlear Nerve Diseases\\n'], ['C14.280.484', 'Heart Valve Diseases\\n'], ['C22.405', 'Goat Diseases\\n'], ['C10.292.175', 'Accessory Nerve Diseases\\n'], ['C10.292.450', 'Glossopharyngeal Nerve Diseases\\n'], ['C10.668', 'Neuromuscular Diseases\\n'], ['C11.675', 'Orbital Diseases\\n'], ['C13.351.500.852', 'Uterine Diseases\\n'], ['C08', 'Respiratory Tract Diseases\\n'], ['C10.177', 'Autonomic Nervous System Diseases\\n'], ['C15.378.100.141.900', 'von Willebrand Diseases\\n'], ['C13.703.277', 'Fetal Diseases\\n'], ['C10.574.843', 'Prion Diseases\\n'], ['C18.452.584.687.803.730', 'Niemann-Pick Diseases\\n'], ['C08.846', 'Thoracic Diseases\\n'], ['C17', 'Skin and Connective Tissue Diseases\\n'], ['C15.604.250.410.625', 'Niemann-Pick Diseases\\n'], ['C07.465.409', 'Lip Diseases\\n'], ['C09.400', 'Laryngeal Diseases\\n'], ['C17.800.827.368', 'Hereditary Autoinflammatory Diseases\\n'], ['C06.130.120.250', 'Common Bile Duct Diseases\\n'], ['C13.351.968.725', 'Ureteral Diseases\\n'], ['C10.314', 'Demyelinating Diseases\\n'], ['C09.775', 'Pharyngeal Diseases\\n'], ['C06.130.120', 'Bile Duct Diseases\\n'], ['C06.405.469.860.101', 'Anus Diseases\\n'], ['C24', 'Occupational Diseases\\n'], ['C09.218.568.900', 'Vestibular Diseases\\n'], ['C07.465.299.625.500', 'Trigeminal Nerve Diseases\\n'], ['C07.465.815', 'Salivary Gland Diseases\\n'], ['C22.735', 'Primate Diseases\\n'], ['C13.351.500.056.630', 'Ovarian Diseases\\n'], ['C03', 'Parasitic Diseases\\n'], ['C13.351.500.056', 'Adnexal Diseases\\n'], ['C13.351.968.767', 'Urethral Diseases\\n'], ['C06.405.469.110', 'Cecal Diseases\\n'], ['C12.777.419.403.875', 'Polycystic Kidney Diseases\\n'], ['C14.907.137', 'Arterial Occlusive Diseases\\n'], ['C16.300', 'Fetal Diseases\\n'], ['C05.799', 'Rheumatic Diseases\\n'], ['C16.320.565.189.435.825.700', 'Niemann-Pick Diseases\\n'], ['C08.846.187', 'Mediastinal Diseases\\n'], ['C07.550.350', 'Nasopharyngeal Diseases\\n'], ['C14', 'Cardiovascular Diseases\\n'], ['C12.294.494', 'Penile Diseases\\n'], ['C07.465.299', 'Facial Nerve Diseases\\n'], ['C12.777', 'Urologic Diseases\\n'], ['I01.409.418.750.600.480.450', 'National Institute of Diabetes and Digestive and Kidney Diseases (U.S.)\\n'], ['C06.405.469.600', 'Jejunal Diseases\\n'], ['C01.539.221', 'Communicable Diseases\\n'], ['C10.228.140.617.738', 'Pituitary Diseases\\n'], ['C11.338', 'Eyelid Diseases\\n'], ['C24.080', \"Agricultural Workers' Diseases\\n\"], ['C14.907.617', 'Peripheral Vascular Diseases\\n'], ['C10.292.910', 'Vestibulocochlear Nerve Diseases\\n'], ['C06.130', 'Biliary Tract Diseases\\n'], ['C10.228.140.695.625', 'Hereditary Central Nervous System Demyelinating Diseases\\n'], ['C06.844', 'Peritoneal Diseases\\n'], ['C05.500', 'Jaw Diseases\\n'], ['C18.452.648.595.554.825.700', 'Niemann-Pick Diseases\\n'], ['C06', 'Digestive System Diseases\\n'], ['C13.351.500.056.390', 'Fallopian Tube Diseases\\n'], ['C17.300.182', 'Cartilage Diseases\\n'], ['C12.294.668', 'Sexually Transmitted Diseases\\n'], ['C22.362', 'Fish Diseases\\n'], ['C09.603.692', 'Paranasal Sinus Diseases\\n'], ['C11.790', 'Scleral Diseases\\n'], ['C06.405.205.731', 'Inflammatory Bowel Diseases\\n'], ['C05.550', 'Joint Diseases\\n'], ['C12.777.767', 'Urethral Diseases\\n'], ['C10.668.829', 'Peripheral Nervous System Diseases\\n'], ['C08.460', 'Nose Diseases\\n'], ['C12.294.829', 'Testicular Diseases\\n'], ['C18.452.648.189.435.825.700', 'Niemann-Pick Diseases\\n'], ['C17.800.946', 'Sweat Gland Diseases\\n'], ['C22.836', 'Sheep Diseases\\n'], ['C17.300', 'Connective Tissue Diseases\\n'], ['C10.228.140.300.510', 'Intracranial Arterial Diseases\\n'], ['C10.292.319.625.700', 'Trigeminal Nerve Diseases\\n'], ['C13.351.968', 'Urologic Diseases\\n'], ['C10.314.400', 'Hereditary Central Nervous System Demyelinating Diseases\\n'], ['C20.111', 'Autoimmune Diseases\\n'], ['N03.540.348.500.500.600.480.400', 'National Institute of Allergy and Infectious Diseases (U.S.)\\n'], ['C07.320.830', 'Periapical Diseases\\n'], ['C19.391.630', 'Ovarian Diseases\\n'], ['C10.668.491', 'Muscular Diseases\\n'], ['C25.723.415', 'Foodborne Diseases\\n'], ['C23.550.291.750', 'Diseases in Twins\\n'], ['C13.703.590', 'Placenta Diseases\\n'], ['C02.839', 'Slow Virus Diseases\\n'], ['C10.292.525', 'Hypoglossal Nerve Diseases\\n'], ['C11', 'Eye Diseases\\n'], ['C14.907.253.560', 'Intracranial Arterial Diseases\\n'], ['C03.752.875', 'Tick-Borne Diseases\\n'], ['C17.800.321', 'Foot Diseases\\n'], ['C23.550.291.906', 'Rare Diseases\\n'], ['C02.800', 'Sexually Transmitted Diseases\\n'], ['C14.907.109', 'Aortic Diseases\\n'], ['C19.642', 'Parathyroid Diseases\\n'], ['C10.228.228.245', 'Central Nervous System Viral Diseases\\n'], ['C19', 'Endocrine System Diseases\\n'], ['C17.300.200', 'Collagen Diseases\\n'], ['C07.465.815.882', 'Submandibular Gland Diseases\\n'], ['C07.550', 'Pharyngeal Diseases\\n'], ['C20.111.258', 'Autoimmune Diseases of the Nervous System\\n'], ['C17.800.529', 'Nail Diseases\\n'], ['C13.351.500.852.593', 'Uterine Cervical Diseases\\n'], ['C16.614.815.500', 'X-Linked Combined Immunodeficiency Diseases\\n'], ['C22', 'Animal Diseases\\n'], ['C17.800.329', 'Hair Diseases\\n'], ['C16.320.565.595.554.825.700', 'Niemann-Pick Diseases\\n'], ['C12.777.829', 'Urinary Bladder Diseases\\n'], ['C10.292.700', 'Optic Nerve Diseases\\n'], ['C09.218.568', 'Labyrinth Diseases\\n'], ['C06.405.469.158.850', 'Sigmoid Diseases\\n'], ['C13.351.500.944', 'Vulvar Diseases\\n'], ['C10.574', 'Neurodegenerative Diseases\\n'], ['C15.604', 'Lymphatic Diseases\\n'], ['C05.500.693', 'Maxillary Diseases\\n'], ['C22.180', 'Cat Diseases\\n'], ['C13.351.500.711', 'Sexually Transmitted Diseases\\n'], ['C10.292.562.700', 'Oculomotor Nerve Diseases\\n'], ['C10.228.140.079', 'Basal Ganglia Diseases\\n'], ['C09', 'Otorhinolaryngologic Diseases\\n'], ['C10.228.140', 'Brain Diseases\\n'], ['C01.252.400.825', 'Tick-Borne Diseases\\n'], ['C14.907.790', 'Spinal Cord Vascular Diseases\\n'], ['C15.378.463.920', 'von Willebrand Diseases\\n'], ['C12.777.419', 'Kidney Diseases\\n'], ['C16', 'Congenital, Hereditary, and Neonatal Diseases and Abnormalities\\n'], ['C22.131', 'Bird Diseases\\n'], ['C06.405.469.432', 'Inflammatory Bowel Diseases\\n'], ['C05.116', 'Bone Diseases\\n'], ['C22.488', 'Horse Diseases\\n'], ['C16.320.565.189.362', 'Hereditary Central Nervous System Demyelinating Diseases\\n'], ['C22.735.050', 'Ape Diseases\\n'], ['C09.218.568.120', 'Cochlear Diseases\\n'], ['C13.351', 'Female Urogenital Diseases\\n'], ['C15.378.190.615', 'Myelodysplastic-Myeloproliferative Diseases\\n'], ['C05.182', 'Cartilage Diseases\\n'], ['C14.280', 'Heart Diseases\\n'], ['C16.320.400.367', 'Hereditary Central Nervous System Demyelinating Diseases\\n'], ['C15.378.100.100.900', 'von Willebrand Diseases\\n'], ['C15.378.140.900', 'von Willebrand Diseases\\n'], ['C19.053.098', 'Adrenal Cortex Diseases\\n'], ['C22.268', 'Dog Diseases\\n'], ['C05.360', 'Foot Diseases\\n'], ['C17.800.794', 'Sebaceous Gland Diseases\\n'], ['G15.556', 'Plant Diseases\\n'], ['C10.228.140.163.100.362', 'Hereditary Central Nervous System Demyelinating Diseases\\n'], ['C10.228.228.800', 'Prion Diseases\\n'], ['C22.131.728', 'Poultry Diseases\\n'], ['C14.907', 'Vascular Diseases\\n'], ['C06.405.469', 'Intestinal Diseases\\n'], ['C19.700', 'Pituitary Diseases\\n'], ['C11.941.160', 'Choroid Diseases\\n'], ['C08.127', 'Bronchial Diseases\\n'], ['C13.351.968.419.403.875', 'Polycystic Kidney Diseases\\n'], ['C18.452.660', 'Mitochondrial Diseases\\n'], ['C14.907.253.329', 'Cerebral Small Vessel Diseases\\n'], ['C09.218.807.800', 'Vestibulocochlear Nerve Diseases\\n'], ['C20.673.815.500', 'X-Linked Combined Immunodeficiency Diseases\\n'], ['C16.614', 'Infant, Newborn, Diseases\\n'], ['C13', 'Female Urogenital Diseases and Pregnancy Complications\\n'], ['C07.465.714.306', 'Periapical Diseases\\n'], ['C16.320.565.595', 'Lysosomal Storage Diseases\\n'], ['C07', 'Stomatognathic Diseases\\n'], ['C11.204', 'Corneal Diseases\\n'], ['C10.228.140.915', 'Thalamic Diseases\\n'], ['C06.405.469.420', 'Ileal Diseases\\n'], ['C14.907.253.560.200', 'Cerebral Arterial Diseases\\n'], ['I01.409.418.750.600.480.425', 'National Institute of Arthritis and Musculoskeletal and Skin Diseases (U.S.)\\n'], ['N03.540.052.750.400', 'National Institute of Allergy and Infectious Diseases (U.S.)\\n'], ['C10.292.150', 'Abducens Nerve Diseases\\n'], ['C11.768', 'Retinal Diseases\\n'], ['C20', 'Immune System Diseases\\n'], ['C10.292.650', 'Olfactory Nerve Diseases\\n'], ['L01.453.245.945.400', 'International Classification of Diseases\\n'], ['N03.540.348.500.500.600.480.425', 'National Institute of Arthritis and Musculoskeletal and Skin Diseases (U.S.)\\n'], ['C10.228.854.785', 'Spinal Cord Vascular Diseases\\n'], ['C07.320', 'Jaw Diseases\\n'], ['C20.543.520', 'Immune Complex Diseases\\n'], ['C13.351.968.829', 'Urinary Bladder Diseases\\n'], ['C10.228.140.300.275', 'Cerebral Small Vessel Diseases\\n'], ['C06.405.469.275', 'Duodenal Diseases\\n'], ['C19.053', 'Adrenal Gland Diseases\\n'], ['C12.777.725', 'Ureteral Diseases\\n'], ['C06.405.469.860', 'Rectal Diseases\\n'], ['C17.800.090', 'Breast Diseases\\n'], ['C09.775.350', 'Nasopharyngeal Diseases\\n'], ['C11.510', 'Lens Diseases\\n'], ['C16.320.565.398.641.803.730', 'Niemann-Pick Diseases\\n'], ['C11.640', 'Optic Nerve Diseases\\n'], ['C10.228.140.300.510.200', 'Cerebral Arterial Diseases\\n'], ['C09.218.807', 'Retrocochlear Diseases\\n'], ['C16.614.521', 'Infant, Premature, Diseases\\n'], ['C10.228', 'Central Nervous System Diseases\\n'], ['I01.409.418.750.600.480.400', 'National Institute of Allergy and Infectious Diseases (U.S.)\\n'], ['C10', 'Nervous System Diseases\\n'], ['C16.320.099.920', 'von Willebrand Diseases\\n'], ['C16.320.382', 'Hereditary Autoinflammatory Diseases\\n'], ['C11.941', 'Uveal Diseases\\n'], ['C15.604.744', 'Splenic Diseases\\n'], ['C06.405.117', 'Esophageal Diseases\\n'], ['C07.465', 'Mouth Diseases\\n'], ['C01.539.221.750', 'Waterborne Diseases\\n'], ['C18', 'Nutritional and Metabolic Diseases\\n'], ['C11.590.436', 'Oculomotor Nerve Diseases\\n'], ['C06.552', 'Liver Diseases\\n'], ['C07.793', 'Tooth Diseases\\n'], ['C11.496', 'Lacrimal Apparatus Diseases\\n'], ['C02', 'Virus Diseases\\n'], ['C11.941.375', 'Iris Diseases\\n'], ['N03.540.348.500.500.600.480.450', 'National Institute of Diabetes and Digestive and Kidney Diseases (U.S.)\\n'], ['C16.320.565.202.607', 'Mannosidase Deficiency Diseases\\n'], ['C05.651', 'Muscular Diseases\\n'], ['C22.735.500', 'Monkey Diseases\\n'], ['C05.500.607', 'Mandibular Diseases\\n'], ['C05.116.900', 'Spinal Diseases\\n'], ['C10.228.140.300.200', 'Carotid Artery Diseases\\n'], ['C19.391.829', 'Testicular Diseases\\n'], ['C10.292.319', 'Facial Nerve Diseases\\n'], ['C12.294.565', 'Prostatic Diseases\\n'], ['C06.689', 'Pancreatic Diseases\\n'], ['C13.351.500.894', 'Vaginal Diseases\\n'], ['C08.360', 'Laryngeal Diseases\\n'], ['C22.905', 'Swine Diseases\\n'], ['C08.460.692', 'Paranasal Sinus Diseases\\n'], ['N03.540.052.750.450', 'National Institute of Diabetes and Digestive and Kidney Diseases (U.S.)\\n'], ['C15', 'Hemic and Lymphatic Diseases\\n'], ['N06.850.392', 'Endemic Diseases\\n'], ['C08.381', 'Lung Diseases\\n'], ['C10.574.500.494', 'Hereditary Central Nervous System Demyelinating Diseases\\n'], ['C22.795', 'Rodent Diseases\\n'], ['C16.320.322.968', 'X-Linked Combined Immunodeficiency Diseases\\n'], ['C23.550.291.890', 'Neglected Diseases\\n'], ['C18.654.521.500', 'Deficiency Diseases\\n'], ['C15.378.190', 'Bone Marrow Diseases\\n'], ['C07.465.910', 'Tongue Diseases\\n'], ['C10.114', 'Autoimmune Diseases of the Nervous System\\n'], ['C18.452.132.100.435.825.700', 'Niemann-Pick Diseases\\n'], ['C23.550.291.187', 'Asymptomatic Diseases\\n'], ['C09.603', 'Nose Diseases\\n'], ['N03.540.052.750.425', 'National Institute of Arthritis and Musculoskeletal and Skin Diseases (U.S.)\\n'], ['C08.528', 'Pleural Diseases\\n'], ['C05', 'Musculoskeletal Diseases\\n'], ['C08.907', 'Tracheal Diseases\\n'], ['C07.793.237', 'Dental Pulp Diseases\\n'], ['C13.351.968.419', 'Kidney Diseases\\n'], ['C15.378', 'Hematologic Diseases\\n'], ['C02.182', 'Central Nervous System Viral Diseases\\n'], ['C18.452.132.100.362', 'Hereditary Central Nervous System Demyelinating Diseases\\n'], ['C06.130.564', 'Gallbladder Diseases\\n'], ['C18.452.648.595', 'Lysosomal Storage Diseases\\n'], ['C18.452.648.189.362', 'Hereditary Central Nervous System Demyelinating Diseases\\n'], ['C07.465.714.258', 'Gingival Diseases\\n'], ['C10.668.758', 'Neuromuscular Junction Diseases\\n'], ['C06.405', 'Gastrointestinal Diseases\\n'], ['C06.405.748', 'Stomach Diseases\\n'], ['C11.187', 'Conjunctival Diseases\\n'], ['C10.228.854', 'Spinal Cord Diseases\\n'], ['C14.907.253.123', 'Carotid Artery Diseases\\n'], ['C09.218', 'Ear Diseases\\n'], ['C19.874', 'Thyroid Diseases\\n'], ['C18.452.648.202.607', 'Mannosidase Deficiency Diseases\\n'], ['C18.452', 'Metabolic Diseases\\n'], ['C01.539.778', 'Sexually Transmitted Diseases\\n'], ['C12', 'Male Urogenital Diseases\\n'], ['C18.452.648.398.641.803.730', 'Niemann-Pick Diseases\\n'], ['C17.800', 'Skin Diseases\\n'], ['C07.465.714', 'Periodontal Diseases\\n'], ['C22.196', 'Cattle Diseases\\n'], ['C10.228.140.617', 'Hypothalamic Diseases\\n'], ['C10.228.140.252', 'Cerebellar Diseases\\n']]\n"
     ]
    }
   ],
   "source": [
    "f = open('sinyy.txt','r')\n",
    "result = []\n",
    "for i in f :\n",
    "    box = []\n",
    "    a = i.split('*')\n",
    "    aa = a[1]\n",
    "    aa = aa.split()\n",
    "    box.append(aa)\n",
    "    if 'Diseases' in aa :\n",
    "        result.append(a)\n",
    "\n",
    "print len(result)\n",
    "print result\n",
    "        "
   ]
  },
  {
   "cell_type": "markdown",
   "metadata": {},
   "source": [
    "### 문제4. MeSH용어의 바로 상위계층 목록을 만드는 스크립트를 작성하여라\n",
    "### 결과 : submit.csv로 저장하여 첨부 하였습니다."
   ]
  },
  {
   "cell_type": "code",
   "execution_count": null,
   "metadata": {
    "collapsed": true
   },
   "outputs": [],
   "source": [
    "f = open('sinyy.txt','r')\n",
    "box = []   #넘버 리스트\n",
    "\n",
    "count = {}\n",
    "num = 0\n",
    "for i in f :\n",
    "    a = i.split('*')\n",
    "    a = a[0]\n",
    "    a = a.split('.')\n",
    "    box.append(a)\n",
    "print len(box)\n",
    "\n",
    "for w in box :   \n",
    "    wc = 0\n",
    "    wl = len(w)\n",
    "    for e in box :\n",
    "        \n",
    "        if len(e) > wl :\n",
    "            ee = e[:wl]\n",
    "            ch = cmp(w,ee)\n",
    "            if ch == 0 :\n",
    "                wc = wc + 1\n",
    "    q = w[0:]\n",
    "    q = str(q)\n",
    "    count[q] = wc \n",
    "#파일로 저장\n",
    "pre_data = pd.Series(count)\n",
    "data = pre_data.sort_values(ascending=False)\n",
    "data.to_csv('submit.csv')\n"
   ]
  }
 ],
 "metadata": {
  "kernelspec": {
   "display_name": "Python 2",
   "language": "python",
   "name": "python2"
  },
  "language_info": {
   "codemirror_mode": {
    "name": "ipython",
    "version": 2
   },
   "file_extension": ".py",
   "mimetype": "text/x-python",
   "name": "python",
   "nbconvert_exporter": "python",
   "pygments_lexer": "ipython2",
   "version": "2.7.12"
  }
 },
 "nbformat": 4,
 "nbformat_minor": 0
}
